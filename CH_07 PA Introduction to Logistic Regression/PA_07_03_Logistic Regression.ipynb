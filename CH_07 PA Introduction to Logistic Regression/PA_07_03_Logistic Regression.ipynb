{
 "cells": [
  {
   "cell_type": "markdown",
   "metadata": {},
   "source": [
    "# Chapter.7.03 Logistic Regression\n",
    "\n",
    "Data에 Outlier를 추가했을때 Decision Boundary를 제대로 설정하지 못하는 것을 확인했습니다<br>\n",
    "pA 7.03에서는 Sigmoid 함수를 구현하고<br>\n",
    "Logistic Regression을 통해서 Classification을 진행할 것입니다"
   ]
  },
  {
   "cell_type": "code",
   "execution_count": null,
   "metadata": {},
   "outputs": [],
   "source": [
    "import numpy as np\n",
    "import matplotlib.pyplot as plt\n",
    "\n",
    "import matplotlib.cm as cm\n",
    "import basic_nodes as nodes \n",
    "\n",
    "import os\n",
    "import sys\n",
    "np.random.seed(0)\n"
   ]
  },
  {
   "cell_type": "markdown",
   "metadata": {},
   "source": [
    "***\n",
    "## Sigmoid Function\n",
    "\n",
    "먼저 sigmoid function은 다음과 같은 식으로 표현된다.\n",
    "<center>\n",
    "$\\sigma(x) = \\frac{1}{1 + \\exp^{-x}}$\n",
    "</center>\n",
    "이 sigmoid function을 numpy를 이용해 구현해보자."
   ]
  },
  {
   "cell_type": "code",
   "execution_count": null,
   "metadata": {},
   "outputs": [],
   "source": [
    "\n",
    "\n",
    "x_range = np.linspace(-10, 10, 1000)\n",
    "# Start Sigmoid Function\n",
    "y =\n",
    "# End Sigmoid Function \n",
    "\n",
    "fig, ax = plt.subplots(figsize = (12, 5))\n",
    "ax.plot(x_range, y)\n",
    "ax.grid()"
   ]
  },
  {
   "cell_type": "markdown",
   "metadata": {},
   "source": [
    "**Expected Output** \n",
    "<img src='./img_7/7_03_1.png' width = 700>"
   ]
  },
  {
   "cell_type": "markdown",
   "metadata": {},
   "source": [
    "## Step.1 Dataset Generator\n",
    "PA 7.03에서 생성했던 Data를 똑같이 사용합니다<br><br>\n",
    "\n",
    "Pass 학생과 Non Pass 학생을 각각 50명씩 생성한다<br>\n",
    "학생 최소/최대 공부시간을 hour_m,hour_M으로 잡고 decision boundary를 hour_b로 만든다<br>\n",
    "NP 학생들은 0 ~ 5시간 공부시간을 가지고 P학생들은  5 ~ 10시간의 공부시간을 가진다<br><br>\n",
    "\n",
    "Pass 학생과 Non Pass 학생의 y값은 각각 1, 0으로 만든다<br><br>\n",
    "\n",
    "추가로 Outlier 학생들을 더해주는데<br>\n",
    "20명의 학생들을 최소/최대 공부시간을 20~23시간으로 가지게 만든다<br>\n",
    "마찬가지로 Pass 학생이므로 y값은 1로 한다"
   ]
  },
  {
   "cell_type": "code",
   "execution_count": null,
   "metadata": {},
   "outputs": [],
   "source": [
    "n_P, n_NP = \n",
    "# 학생들의 최소/최대 공부시간을 hour_m, hour_M으로 잡고 decision boundary를 hour_b로 만듦\n",
    "# 즉, NP학생들은 0~5시간 공부시간을 가지고 P학생들은 5~10시간의 공부시간을 가짐\n",
    "hour_m, hour_b, hour_M = \n",
    "\n",
    "### Start Dataset Genaration\n",
    "study_hour_P = np.random.uniform(low = , high = , size = )\n",
    "study_hour_NP = np.random.uniform(low = , high = , size = )\n",
    "\n",
    "\n",
    "# P, NP학생들의 y값들은 각각 1, 0으로 만들어줌\n",
    "result_P = \n",
    "result_NP = \n",
    "\n",
    "### End Dataset Generation\n",
    "\n",
    "n_out = \n",
    "hour_out_m, hour_out_M = \n",
    "study_hour_outlier = np.random.uniform(low = , high = , size = )\n",
    "result_outlier = np.ones_like(study_hour_outlier)\n",
    "\n",
    "study_hour_P = np.append(study_hour_P,study_hour_outlier)\n",
    "result_P = np.append(result_P,result_outlier)\n",
    "\n",
    "x_data = np.hstack([study_hour_P,study_hour_NP])\n",
    "y_data = np.hstack([result_P,result_NP])\n",
    "\n",
    "\n",
    "print(\"study_hour_P:\", study_hour_P[:5])\n",
    "print(\"study_hour_NP:\", study_hour_NP[:5])\n",
    "print(\"result_P:\", result_P[:5])\n",
    "print(\"result_NP:\", result_NP[:5], '\\n')\n",
    "print(\"study_hour_P.shape:\", study_hour_P.shape)\n",
    "print(\"study_hour_NP.shape:\", study_hour_NP.shape)\n",
    "print(\"result_P.shape:\", result_P.shape)\n",
    "print(\"result_NP.shape:\", result_NP.shape)"
   ]
  },
  {
   "cell_type": "markdown",
   "metadata": {},
   "source": [
    "**Expected Output**  \n",
    "study_hour_P: [7.74406752 8.57594683 8.01381688 7.72441591 7.118274  ]<br>\n",
    "study_hour_NP: [2.85098385 2.19300757 4.94186919 0.51022405 1.04438378]<br>\n",
    "result_P: [1. 1. 1. 1. 1.]<br>\n",
    "result_NP: [0. 0. 0. 0. 0.] <br><br>\n",
    "\n",
    "study_hour_P.shape: (70,)<br>\n",
    "study_hour_NP.shape: (50,)<br>\n",
    "result_P.shape: (70,)<br>\n",
    "result_NP.shape: (50,)"
   ]
  },
  {
   "cell_type": "markdown",
   "metadata": {},
   "source": [
    "##  Step.2 Dataset Visualization"
   ]
  },
  {
   "cell_type": "code",
   "execution_count": null,
   "metadata": {},
   "outputs": [],
   "source": [
    "fig, ax = plt.subplots(figsize = (12,5))\n",
    "ax.plot(x_data[:n_P + n_out], y_data[:n_P + n_out], 'bo')\n",
    "ax.plot(x_data[n_P + n_out:], y_data[n_P + n_out:], 'ro')\n",
    "ax.grid()"
   ]
  },
  {
   "cell_type": "markdown",
   "metadata": {},
   "source": [
    "**Expected Output** \n",
    "<img src='./img_7/7_03_2.png' width = 700>"
   ]
  },
  {
   "cell_type": "markdown",
   "metadata": {},
   "source": [
    "## Step.3 Sigmoid_node\n",
    "앞에서 만들었던 sigmoid를 node class로 구성합니다"
   ]
  },
  {
   "cell_type": "code",
   "execution_count": null,
   "metadata": {},
   "outputs": [],
   "source": [
    "class sigmoid_node():\n",
    "    def __init__(self):\n",
    "        self.x, self.y = None, None\n",
    "        \n",
    "    def forward(self, x):\n",
    "        self.x, self.y = \n",
    "        return self.y\n",
    "    def backward(self, dL):\n",
    "        return \n",
    "    \n",
    "test_sigmoid = sigmoid_node()\n",
    "test_x = np.array([1, 2, 3, 4, 5])\n",
    "print(test_sigmoid.forward(test_x))\n",
    "print(test_sigmoid.backward(1))\n"
   ]
  },
  {
   "cell_type": "markdown",
   "metadata": {},
   "source": [
    "**Expected Output**  \n",
    "[0.73105858 0.88079708 0.95257413 0.98201379 0.99330715]<br>\n",
    "[0.19661193 0.10499359 0.04517666 0.01766271 0.00664806]"
   ]
  },
  {
   "cell_type": "markdown",
   "metadata": {},
   "source": [
    "## Step.4 Parameter 설정\n",
    "basic_nodes에서 필요한 node들을 import 하고<br>\n",
    "학습에 필요한 Parameter들을 설정해줍니다\n",
    "* lr  = 0.1\n",
    "* epochs = 50000\n",
    "* 초기 theta 값 = 0.1, 0.1"
   ]
  },
  {
   "cell_type": "code",
   "execution_count": null,
   "metadata": {},
   "outputs": [],
   "source": [
    "node1 = nodes.mul_node()\n",
    "node2 = nodes.plus_node()\n",
    "node3 = sigmoid_node()\n",
    "node4 = nodes.minus_node()\n",
    "node5 = nodes.square_node()\n",
    "node6 = nodes.mean_node()\n",
    "\n"
   ]
  },
  {
   "cell_type": "code",
   "execution_count": null,
   "metadata": {},
   "outputs": [],
   "source": [
    "th_list = \n",
    "lr = \n",
    "epochs = \n",
    "cost_list = \n",
    "theta1_list, theta0_list = "
   ]
  },
  {
   "cell_type": "markdown",
   "metadata": {},
   "source": [
    "## Step.5 Learning\n",
    "PA 7.02와 동일한 방법으로 학습합니다"
   ]
  },
  {
   "cell_type": "code",
   "execution_count": null,
   "metadata": {},
   "outputs": [],
   "source": [
    "for i in range(epochs):\n",
    "    Z1 = \n",
    "    Z2 = \n",
    "    Z3 = \n",
    "    Z4 = \n",
    "    L =\n",
    "    J = \n",
    "    \n",
    "    dL = \n",
    "    dZ4 = \n",
    "    dY, dZ3 =\n",
    "    dZ2 = \n",
    "    dZ1, dTheta0 = \n",
    "    dTheta1, dX = \n",
    "    \n",
    "    \n",
    "    th_list[1] = \n",
    "    th_list[0] =\n",
    "    \n",
    "    cost_list.append(J)\n",
    "    theta1_list.append(th_list[1])\n",
    "    theta0_list.append(th_list[0])"
   ]
  },
  {
   "cell_type": "markdown",
   "metadata": {},
   "source": [
    "## Step.6 Visualization"
   ]
  },
  {
   "cell_type": "code",
   "execution_count": null,
   "metadata": {},
   "outputs": [],
   "source": [
    "fig, ax = plt.subplots(2, 1, figsize = (12, 8))\n",
    "ax[0].set_title(\"Cost\")\n",
    "ax[1].set_title(r'$\\theta_{1} \\quad and \\quad \\theta_{0}$')\n",
    "ax[0].plot(cost_list)\n",
    "ax[1].plot(theta1_list, label = r'$\\theta_{1}$')\n",
    "ax[1].plot(theta0_list, label = r'$\\theta_{0}$')\n",
    "ax[1].legend(loc = 'upper right', fontsize = 20)\n",
    "\n",
    "x_min, x_max = x_data.min(), x_data.max()\n",
    "y_min, y_max = node3.forward(x_min*th_list[1] + th_list[0]), node3.forward(x_max*th_list[1] + th_list[0])\n",
    "x_range = np.linspace(x_min, x_max, 1000)\n",
    "y_range = node3.forward(x_range*th_list[1] + th_list[0])\n",
    "y_d_idx = np.where(np.abs(y_range - 0.5) == np.min(np.abs(y_range - 0.5)))\n",
    "x_d_val = x_range[y_d_idx]\n",
    "\n",
    "fig, ax = plt.subplots(figsize = (12,5))\n",
    "ax.plot(x_data[:n_P + n_out], y_data[:n_P + n_out], 'bo')\n",
    "ax.plot(x_data[n_P + n_out:], y_data[n_P + n_out:], 'ro')\n",
    "ax.plot(x_range, y_range, 'r', linewidth = 2)\n",
    "ax.plot([x_range[y_d_idx], x_range[y_d_idx]], [0, y_range[y_d_idx]], 'purple', linewidth = 3)\n",
    "ax.plot(x_range[y_d_idx], y_range[y_d_idx], 'purple', marker = 'o', markersize = 10)\n",
    "ax.text(x_range[y_d_idx]*1.05, y_range[y_d_idx],\n",
    "        s = \"Decision Boundary:\" + str(np.round(x_range[y_d_idx], 2)),\n",
    "       fontdict = {'color':  'purple', 'fontsize': 20})\n",
    "ax.grid()"
   ]
  },
  {
   "cell_type": "markdown",
   "metadata": {},
   "source": [
    "**Expected Output** \n",
    "<img src='./img_7/7_03_3.png' width = 700>\n",
    "<img src='./img_7/7_03_4.png' width = 700>"
   ]
  }
 ],
 "metadata": {
  "kernelspec": {
   "display_name": "Python 3",
   "language": "python",
   "name": "python3"
  },
  "language_info": {
   "codemirror_mode": {
    "name": "ipython",
    "version": 3
   },
   "file_extension": ".py",
   "mimetype": "text/x-python",
   "name": "python",
   "nbconvert_exporter": "python",
   "pygments_lexer": "ipython3",
   "version": "3.7.6"
  }
 },
 "nbformat": 4,
 "nbformat_minor": 4
}
