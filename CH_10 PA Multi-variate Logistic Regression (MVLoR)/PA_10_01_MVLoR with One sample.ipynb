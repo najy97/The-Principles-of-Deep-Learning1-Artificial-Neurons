{
 "cells": [
  {
   "cell_type": "markdown",
   "metadata": {},
   "source": [
    "# Chapter.10.1 MVLoR for One Sample\n",
    "\n",
    "MVLoR을 One sample을 통해서 진행하여<br>\n",
    "학습결과를 확인한다"
   ]
  },
  {
   "cell_type": "code",
   "execution_count": null,
   "metadata": {},
   "outputs": [],
   "source": [
    "import numpy as np\n",
    "import matplotlib as mpl\n",
    "import matplotlib.pyplot as plt\n",
    "import matplotlib.cm as cm\n",
    "import basic_nodes as nodes"
   ]
  },
  {
   "cell_type": "markdown",
   "metadata": {},
   "source": [
    "### Step.1 dataset_generator"
   ]
  },
  {
   "cell_type": "code",
   "execution_count": null,
   "metadata": {},
   "outputs": [],
   "source": [
    "\n",
    "class dataset_generator:\n",
    "    def __init__(self, feature_dim, n_sample = 300, noise_factor = 0., direction = 1):\n",
    "        self._feature_dim = feature_dim\n",
    "        self._n_sample = n_sample\n",
    "        self._noise_factor = noise_factor\n",
    "        self._direction = direction\n",
    "    \n",
    "        self._init_feature_dict()\n",
    "        self._init_t_th()\n",
    "    def _init_feature_dict(self):\n",
    "        self._feature_dict = dict()\n",
    "        for feature_idx in range(1, self._feature_dim + 1):\n",
    "            x_dict = {'mean':0, 'std':1}\n",
    "            self._feature_dict[feature_idx] = x_dict\n",
    "        \n",
    "    def _init_t_th(self):\n",
    "        self._t_th = [0] + [1 for i in range(self._feature_dim)]\n",
    "        \n",
    "    def set_feature_dict(self, feature_dict):\n",
    "        if len(feature_dict) != self._feature_dim:\n",
    "            class FeatureDictError(Exception):\n",
    "                pass\n",
    "            raise FeatureDictError('The length of \"feature_dict\" should be equal to \"feature_dim\"')\n",
    "        else:\n",
    "            self._feature_dict = feature_dict\n",
    "    def set_t_th(self, t_th_list):\n",
    "        if len(t_th_list) != len(self._t_th):\n",
    "            class t_th_Error(Exception):\n",
    "                pass\n",
    "            raise t_th_Error('The length of \"t_th_list\" should be equal to \"t_th_list\"')\n",
    "        else:\n",
    "            self._t_th = t_th_list\n",
    "### Start\n",
    "    def make_dataset(self):\n",
    "        x_data = \n",
    "        y =\n",
    "        \n",
    "        for feature_idx in range(1, self._feature_dim + 1):\n",
    "            feature_dict = \n",
    "            data = np.random.normal(loc = , scale = ,\n",
    "                                    size = )\n",
    "            x_data =\n",
    "            y += \n",
    "        y += \n",
    "        y_noise = \n",
    "        \n",
    "        if self._direction > 0:\n",
    "            y_data = (y_noise > 0).astype(np.int)\n",
    "        else:\n",
    "            y_data = (y_noise < 0).astype(np.int)\n",
    "        \n",
    "        data = np.hstack()\n",
    "        return data\n",
    "### End"
   ]
  },
  {
   "cell_type": "markdown",
   "metadata": {},
   "source": [
    "### Step.2 Affine_Function"
   ]
  },
  {
   "cell_type": "code",
   "execution_count": null,
   "metadata": {},
   "outputs": [],
   "source": [
    "class Affine_Function:\n",
    "    def __init__(self):\n",
    "        self._feature_dim = feature_dim\n",
    "        \n",
    "        self._z1_list = [None]*(self._feature_dim + 1)\n",
    "        self._z2_list = self._z1_list.copy()\n",
    "        \n",
    "        self._dz1_list, self._dz2_list = self._z1_list.copy(), self._z1_list.copy()\n",
    "        self._dth_list = self._z1_list.copy()\n",
    "        \n",
    "        self.node_imp()\n",
    "        self.random_initialization()\n",
    "        \n",
    "    def node_imp(self):\n",
    "        self._node1 = [None] + [nodes.mul_node() for _ in range(self._feature_dim)]\n",
    "        self._node2 = [None] + [nodes.plus_node() for _ in range(self._feature_dim)]\n",
    "### Start\n",
    "    def random_initialization(self):\n",
    "        r_feature_dim =\n",
    "        self._Th = np.random.uniform(low = ,\n",
    "                                     high = ,\n",
    "                                     size = )\n",
    "        \n",
    "    def forward(self, X):\n",
    "        for node_idx in range(1, self._feature_dim + 1):\n",
    "            self._z1_list[node_idx] = \n",
    "        self._z2_list[1] = \n",
    "        for node_idx in range(2, self._feature_dim + 1):\n",
    "            self._z2_list[node_idx] = \n",
    "        return self._z2_list[-1]\n",
    "    \n",
    "    def backward(self, dz2_last, lr):\n",
    "        self._dz2_list[-1] =\n",
    "        \n",
    "        for node_idx in reversed(range(1, self._feature_dim + 1)):\n",
    "            dz2, dz1 = \n",
    "            self._dz2_list[node_idx-1] =\n",
    "            self._dz1_list[node_idx] = \n",
    "        \n",
    "        self._dth_list[0] = \n",
    "        \n",
    "        for node_idx in reversed(range(1, self._feature_dim + 1)):\n",
    "            dth, _ = \n",
    "            self._dth_list[node_idx] =\n",
    "        \n",
    "        self._Th = self._Th - \n",
    "        return self._Th\n",
    "### End\n",
    "    def get_Th(self):\n",
    "        return self._Th"
   ]
  },
  {
   "cell_type": "markdown",
   "metadata": {},
   "source": [
    "### Step.3 Sigmoid"
   ]
  },
  {
   "cell_type": "code",
   "execution_count": null,
   "metadata": {},
   "outputs": [],
   "source": [
    "class Sigmoid:\n",
    "    def __init__(self):\n",
    "        self._pred = None\n",
    "### Start\n",
    "    def forward(self, z):\n",
    "        self._pred = \n",
    "        return self._pred\n",
    "    \n",
    "    def backward(self, dpred):\n",
    "        partial = \n",
    "        dz = \n",
    "        return dz\n",
    "### End"
   ]
  },
  {
   "cell_type": "markdown",
   "metadata": {},
   "source": [
    "### Step.4 BinaryCrossEntropy_Loss"
   ]
  },
  {
   "cell_type": "code",
   "execution_count": null,
   "metadata": {},
   "outputs": [],
   "source": [
    "class BinaryCrossEntropy_Loss:\n",
    "    def __init__(self):\n",
    "        self._y, self._pred = None, None\n",
    "### Start\n",
    "    def forward(self, y, pred):\n",
    "        self._y, self._pred = \n",
    "        loss = \n",
    "        return loss\n",
    "\n",
    "    def backward(self):\n",
    "        dpred = \n",
    "        return dpred\n",
    "### End"
   ]
  },
  {
   "cell_type": "markdown",
   "metadata": {},
   "source": [
    "### Step.5 Visualization"
   ]
  },
  {
   "cell_type": "code",
   "execution_count": null,
   "metadata": {},
   "outputs": [],
   "source": [
    "def result_tracker():\n",
    "    global iter_idx, check_freq\n",
    "    global th_accum, affine\n",
    "    \n",
    "    if iter_idx % check_freq == 0:\n",
    "        th_accum = np.hstack((th_accum, affine.get_Th()))\n",
    "        loss_list.append(1)\n",
    "    iter_idx += 1\n",
    "\n",
    "def plot_classifier():\n",
    "    p_idx = np.where(data[:,-1] > 0)\n",
    "    np_idx = np.where(data[:,-1] <= 0)\n",
    "    \n",
    "    fig = plt.figure(figsize = (15,15))\n",
    "    ax = fig.add_subplot(projection = '3d')\n",
    "    \n",
    "    ax.plot(data[p_idx, 1].flat, data[p_idx,2].flat, data[p_idx, -1].flat, 'bo')\n",
    "    ax.plot(data[np_idx, 1].flat, data[np_idx,2].flat, data[np_idx, -1].flat, 'rX')\n",
    "    \n",
    "    ax.set_xlabel(r'$x_{1}$' + ' data', labelpad = 20)\n",
    "    ax.set_ylabel(r'$x_{2}$' + ' data', labelpad = 20)\n",
    "    ax.set_zlabel('y', labelpad = 20)\n",
    "    \n",
    "    f_th0, f_th1, f_th2 = th_accum[:,-1]\n",
    "    x1_range = np.linspace(np.min(data[:, 1]), np.max(data[:,1]), 100)\n",
    "    x2_range = np.linspace(np.min(data[:, 2]), np.max(data[:,2]), 100)\n",
    "    X1, X2 = np.meshgrid(x1_range, x2_range)\n",
    "    \n",
    "    affine = X2*f_th2 + X1*f_th1 + f_th0\n",
    "    pred = sigmoid.forward(affine)\n",
    "    \n",
    "    ax.plot_wireframe(X1, X2, pred)\n",
    "\n",
    "def result_visualizer():\n",
    "    global th_accum, loss_list\n",
    "    \n",
    "    fig, ax = plt.subplots(figsize = (30, 10))\n",
    "    fig.subplots_adjust(hspace = 0.3)\n",
    "    ax.set_title(r'$\\vec{\\theta}$' + ' Update')\n",
    "    \n",
    "    for feature_idx in range(feature_dim + 1):\n",
    "        \n",
    "        ax.plot(th_accum[feature_idx, :], label = r'$\\theta_{%d}$'%feature_idx)\n",
    "        \n",
    "    ax.legend()\n",
    "    iter_ticks = np.linspace(0, th_accum.shape[1],10).astype(np.int)\n",
    "    ax.set_xticks(iter_ticks)"
   ]
  },
  {
   "cell_type": "markdown",
   "metadata": {},
   "source": [
    "### Step.6 Dataset Preparation\n",
    "앞에서 작성한 dataset_generator 함수를 통해서 dataset을 생성한다<br><br>\n",
    "\"\"\"<br>\n",
    "feature_dim: 2<br>\n",
    "noise_factor: 0.<br>\n",
    "direction: 1<br>\n",
    "n_sample: 100<br>\n",
    "\n",
    "mean: 0<br>\n",
    "std: 1<br>\n",
    "t_th_list: [0, 1, 1]<br>\n",
    "\n",
    "epochs: 100 <br>\n",
    "lr: 0.01<br>\n",
    "iter_idx: 0<br>\n",
    "check_freq: 1<br>\n",
    "\"\"\"\n"
   ]
  },
  {
   "cell_type": "code",
   "execution_count": null,
   "metadata": {},
   "outputs": [],
   "source": [
    "### Start\n",
    "feature_dim = \n",
    "noise_factor = \n",
    "direction = \n",
    "n_sample = \n",
    "\n",
    "x_dict = {1:{'mean': , 'std': },\n",
    "          2:{'mean': , 'std': }}\n",
    "t_th_list = \n",
    "\n",
    "epochs, lr = \n",
    "iter_idx, check_freq = \n",
    "### End\n",
    "data_gen = dataset_generator(feature_dim = feature_dim,\n",
    "                             n_sample = n_sample,\n",
    "                             noise_factor = noise_factor,\n",
    "                             direction = direction)\n",
    "data_gen.set_t_th(t_th_list)\n",
    "data_gen.set_feature_dict(x_dict)\n",
    "data = data_gen.make_dataset()"
   ]
  },
  {
   "cell_type": "markdown",
   "metadata": {},
   "source": [
    "### Step.7\n",
    "Affine_Function와 sigmoid, BinaryCrossEntropy_Loss를 생성합니다"
   ]
  },
  {
   "cell_type": "code",
   "execution_count": null,
   "metadata": {},
   "outputs": [],
   "source": [
    "### Start\n",
    "affine =\n",
    "sigmoid = \n",
    "BCE_loss = \n",
    "\n",
    "loss_list = []\n",
    "th_accum = \n",
    "### End"
   ]
  },
  {
   "cell_type": "markdown",
   "metadata": {},
   "source": [
    "### step.8 Training"
   ]
  },
  {
   "cell_type": "code",
   "execution_count": null,
   "metadata": {},
   "outputs": [],
   "source": [
    "### Start\n",
    "for epoch in range(epochs):\n",
    "    np.random.shuffle(data)\n",
    "    \n",
    "    for data_idx in range(data.shape[0]):\n",
    "        x, y =\n",
    "        \n",
    "        z =\n",
    "        pred = \n",
    "        l = \n",
    "        \n",
    "        dpred = \n",
    "        dz = \n",
    "        affine.backward(dz, lr)\n",
    "        \n",
    "        result_tracker()\n",
    "### End\n",
    "result_visualizer()\n",
    "plot_classifier()"
   ]
  },
  {
   "cell_type": "markdown",
   "metadata": {},
   "source": [
    "**Expected Output** \n",
    "<img src='./img_10/10_01.png' width = 700>\n",
    "<img src='./img_10/10_02.png' width = 700>"
   ]
  }
 ],
 "metadata": {
  "kernelspec": {
   "display_name": "Python 3",
   "language": "python",
   "name": "python3"
  },
  "language_info": {
   "codemirror_mode": {
    "name": "ipython",
    "version": 3
   },
   "file_extension": ".py",
   "mimetype": "text/x-python",
   "name": "python",
   "nbconvert_exporter": "python",
   "pygments_lexer": "ipython3",
   "version": "3.6.7"
  }
 },
 "nbformat": 4,
 "nbformat_minor": 4
}
